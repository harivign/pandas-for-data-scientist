{
  "nbformat": 4,
  "nbformat_minor": 0,
  "metadata": {
    "colab": {
      "provenance": [],
      "toc_visible": true,
      "authorship_tag": "ABX9TyOcU0v8q2W8keKb8CezIOh2",
      "include_colab_link": true
    },
    "kernelspec": {
      "name": "python3",
      "display_name": "Python 3"
    },
    "language_info": {
      "name": "python"
    }
  },
  "cells": [
    {
      "cell_type": "markdown",
      "metadata": {
        "id": "view-in-github",
        "colab_type": "text"
      },
      "source": [
        "<a href=\"https://colab.research.google.com/github/harivign/pandas-for-data-scientist/blob/main/pandas_questions_and_answer_for_practice.ipynb\" target=\"_parent\"><img src=\"https://colab.research.google.com/assets/colab-badge.svg\" alt=\"Open In Colab\"/></a>"
      ]
    },
    {
      "cell_type": "markdown",
      "source": [
        "#day1"
      ],
      "metadata": {
        "id": "85g8kr0YwQV3"
      }
    },
    {
      "cell_type": "code",
      "source": [],
      "metadata": {
        "id": "wNNkAdkGwWdw"
      },
      "execution_count": null,
      "outputs": []
    }
  ]
}